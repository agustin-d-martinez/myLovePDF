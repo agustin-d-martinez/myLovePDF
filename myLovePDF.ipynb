{
 "cells": [
  {
   "cell_type": "code",
   "execution_count": 2,
   "metadata": {},
   "outputs": [],
   "source": [
    "import fitz  # pymupdf\n",
    "import os\n",
    "from PIL import Image\n",
    "import sys\n",
    "from PyQt5.QtWidgets import QApplication, QWidget, QVBoxLayout, QLabel, QPushButton, QFileDialog\n"
   ]
  },
  {
   "cell_type": "markdown",
   "metadata": {},
   "source": [
    "Agregar directorio actual\n",
    "\n",
    "A una lista de nombres les agrega el path absoluto de este documento."
   ]
  },
  {
   "cell_type": "code",
   "execution_count": 22,
   "metadata": {},
   "outputs": [],
   "source": [
    "def addPath( lista ):\n",
    "\tpath_actual = os.getcwd()\t\t\t\t\t\t\t\t\t\t\t# Si se usa un .ipynb\n",
    "\t# path_actual = os.path.dirname(os.path.abspath(__file__))\t\t\t\t# Si se usa un .py\n",
    "\tif isinstance(lista, list):  # Si es una lista, agregar la ruta a cada elemento\n",
    "\t\treturn [os.path.join(path_actual, archivo) for archivo in lista]\n",
    "\telif isinstance(lista, str):  # Si es una sola cadena, agregar la ruta\n",
    "\t\treturn os.path.join(path_actual, lista)\n"
   ]
  },
  {
   "cell_type": "markdown",
   "metadata": {},
   "source": [
    "UNIR PDF"
   ]
  },
  {
   "cell_type": "code",
   "execution_count": 3,
   "metadata": {},
   "outputs": [],
   "source": [
    "def unir_pdfs(entradas, salida, inicial_par=False , final_par=False):\n",
    "\t\n",
    "\tif not entradas:\n",
    "\t\tprint(\"Error: La lista de PDFs está vacía.\")\n",
    "\t\treturn\n",
    "\tdoc_final = fitz.open()\n",
    "\n",
    "\tfor pdf in entradas:\n",
    "\t\tif os.path.exists(pdf):\n",
    "\t\t\tdoc_temp = fitz.open(pdf)\n",
    "\t\t\tif inicial_par and len(doc_temp) % 2 != 0 :\n",
    "\t\t\t\tdoc_final.new_page()\n",
    "\t\n",
    "\t\t\tdoc_final.insert_pdf(doc_temp)\n",
    "\n",
    "\t\t\tif final_par and len(doc_temp) % 2 != 0 :\n",
    "\t\t\t\tdoc_final.new_page()\n",
    "\n",
    "\t\t\tdoc_temp.close()\n",
    "\t\telse:\n",
    "\t\t\tprint(f\"Advertencia: No se encontró '{pdf}' y será omitido.\")\n",
    "\n",
    "\tif len(doc_final) > 0:\n",
    "\t\tdoc_final.save(salida)\n",
    "\t\tprint(f\"PDF guardado como '{salida}'\")\n",
    "\telse:\n",
    "\t\tprint(\"Error: No se pudo generar el PDF de salida.\")\n",
    "\t\tdoc_final.close()\n",
    "\t\treturn\n",
    "\n",
    "\tdoc_final.close()\n",
    "\n",
    "\tprint(f\"PDFs combinados y guardados en '{salida}'\")"
   ]
  },
  {
   "cell_type": "code",
   "execution_count": null,
   "metadata": {},
   "outputs": [
    {
     "name": "stdout",
     "output_type": "stream",
     "text": [
      "Advertencia: No se encontró 'archivo1.pdf' y será omitido.\n",
      "Advertencia: No se encontró 'archivo2.pdf' y será omitido.\n",
      "Advertencia: No se encontró 'archivo3.pdf' y será omitido.\n",
      "Error: No se pudo generar el PDF de salida.\n"
     ]
    }
   ],
   "source": [
    "# Ejemplo de uso\n",
    "archivos = [\"archivo1.pdf\", \"archivo2.pdf\", \"archivo3.pdf\"]\n",
    "resultado = \"resultado.pdf\"\n",
    "\n",
    "# Agrega el path del archivo actual\n",
    "archivos = addPath(archivos)\n",
    "resultado = addPath(resultado)\n",
    "\n",
    "unir_pdfs(archivos, resultado)"
   ]
  },
  {
   "cell_type": "markdown",
   "metadata": {},
   "source": [
    "SEPARAR PÁGINAS"
   ]
  },
  {
   "cell_type": "code",
   "execution_count": 4,
   "metadata": {},
   "outputs": [],
   "source": [
    "def separar_hojas(entrada, salida, paginas):\n",
    "\t\"\"\"Separa hojas específicas de un PDF y las guarda individualmente en la carpeta de salida.\n",
    "\n",
    "\tParámetros:\n",
    "\tentrada (str): Ruta del archivo PDF de entrada.\n",
    "\tsalida (str): Carpeta donde se guardarán los archivos.\n",
    "\tpaginas (list): Lista de números de páginas a extraer (base 1).\n",
    "\t\"\"\"\n",
    "\n",
    "\tif not os.path.exists(entrada):\n",
    "\t\tprint(f\"Error: No se encontró '{entrada}'\")\n",
    "\t\treturn\n",
    "\n",
    "\tif not os.path.exists(salida):\n",
    "\t\tos.makedirs(salida)  # Crea la carpeta si no existe\n",
    "\t\t\n",
    "\tdoc_inicial = fitz.open(entrada)\n",
    "\tnombre_base = os.path.splitext(os.path.basename(entrada))[0]  # Nombre sin extensión\n",
    "\n",
    "\tfor num_pagina in paginas:\n",
    "\t\tif 1 <= num_pagina <= len(doc_inicial):\n",
    "\t\t\tdoc_tmp = fitz.open()\n",
    "\t\t\tdoc_tmp.insert_pdf(doc_inicial, from_page=num_pagina - 1, to_page=num_pagina - 1)\n",
    "\t\t\tarchivo_salida = os.path.join(salida, f\"{nombre_base}_pag_{num_pagina}.pdf\")\n",
    "\t\t\tdoc_tmp.save(archivo_salida)\n",
    "\t\t\tdoc_tmp.close()\n",
    "\t\t\tprint(f\"Guardado: {archivo_salida}\")\n",
    "\t\telse :\n",
    "\t\t\tprint(f\"Advertencia: La página {num_pagina} está fuera de rango y será omitida.\")\n",
    "\n",
    "\tdoc_inicial.close()"
   ]
  },
  {
   "cell_type": "code",
   "execution_count": null,
   "metadata": {},
   "outputs": [
    {
     "name": "stdout",
     "output_type": "stream",
     "text": [
      "Error: No se encontró 'documento.pdf'\n"
     ]
    }
   ],
   "source": [
    "# Ejemplo de uso\n",
    "archivos = \"documento.pdf\"\n",
    "resultado = \"paginas_separadas\"\n",
    "\n",
    "# Agrega el path del archivo actual\n",
    "archivos = addPath(archivos)\n",
    "resultado = addPath(resultado)\n",
    "\n",
    "separar_hojas(archivos , resultado , [1, 3, 5])"
   ]
  },
  {
   "cell_type": "markdown",
   "metadata": {},
   "source": [
    "SEPARAR PDF's"
   ]
  },
  {
   "cell_type": "code",
   "execution_count": 32,
   "metadata": {},
   "outputs": [],
   "source": [
    "def separar_pdf(entrada, salida, paginas, concervar= False, salida_extra = None):\n",
    "\tif not os.path.exists(entrada):\n",
    "\t\tprint(f\"Error: No se encontró '{entrada}'\")\n",
    "\t\treturn\n",
    "\n",
    "\tdoc_inicial = fitz.open(entrada)\n",
    "\tdoc_salida = fitz.open()\n",
    "\tdoc_salida_extra = fitz.open()\n",
    "\n",
    "\tfor num_pagina in range(len(doc_inicial)):\n",
    "\t\tif num_pagina + 1 in paginas:\n",
    "\t\t\tdoc_salida.insert_pdf(doc_inicial, from_page=num_pagina, to_page=num_pagina)\n",
    "\t\telif concervar :\n",
    "\t\t\tdoc_salida_extra.insert_pdf(doc_inicial, from_page=num_pagina, to_page=num_pagina)\n",
    "\n",
    "\tif len(doc_salida) > 0:\n",
    "\t\tdoc_salida.save(salida)\n",
    "\t\tprint(f\"Guardado: {salida}\")\n",
    "\tif len(doc_salida_extra) > 0:\n",
    "\t\tdoc_salida_extra.save(salida_extra)\n",
    "\t\tprint(f\"Guardado: {salida_extra}\")\n",
    "\n",
    "\tdoc_inicial.close()\n",
    "\tdoc_salida.close()\n",
    "\tdoc_salida_extra.close()"
   ]
  },
  {
   "cell_type": "code",
   "execution_count": 34,
   "metadata": {},
   "outputs": [
    {
     "name": "stdout",
     "output_type": "stream",
     "text": [
      "Guardado: e:\\Agustin\\Escritorio\\myLovePDF\\pagina1.pdf\n",
      "Guardado: e:\\Agustin\\Escritorio\\myLovePDF\\pagina2.pdf\n"
     ]
    }
   ],
   "source": [
    "# Ejemplo de uso\n",
    "archivos = [\"colores.pdf\", \"pagina2.pdf\"]\n",
    "resultado = \"pagina1.pdf\"\n",
    "\n",
    "# Agrega el path del archivo actual\n",
    "archivos = addPath(archivos)\n",
    "resultado = addPath(resultado)\n",
    "\n",
    "separar_pdf(archivos[0], resultado, [1], True, archivos[1])"
   ]
  },
  {
   "cell_type": "markdown",
   "metadata": {},
   "source": [
    "WEBP a png"
   ]
  },
  {
   "cell_type": "code",
   "execution_count": null,
   "metadata": {},
   "outputs": [],
   "source": [
    "def webp_to_png( webp_file ) :\n",
    "\tif webp_file.lower().endswith(\".webp\"):\n",
    "\t\tnueva_imagen = webp_file.replace(\".webp\", \".png\")\n",
    "\t\twith Image.open(webp_file) as img:\n",
    "\t\t\timg.save(nueva_imagen, \"PNG\")\n",
    "\t\treturn nueva_imagen\n",
    "\treturn webp_file  # Si no es .webp, devolver la original"
   ]
  },
  {
   "cell_type": "markdown",
   "metadata": {},
   "source": [
    "FOTO A PDF"
   ]
  },
  {
   "cell_type": "code",
   "execution_count": null,
   "metadata": {},
   "outputs": [],
   "source": [
    "A4_WIDTH, A4_HEIGHT = 595, 842  \n",
    "\n",
    "\n",
    "def imagenes_a_pdf(imagenes, salida, scale_widht = A4_WIDTH , scale_height = 842 ):\n",
    "\t\"\"\"Convierte una lista de imágenes en un archivo PDF.\n",
    "\n",
    "\tParámetros:\n",
    "\timagenes (list): Lista de rutas de imágenes a convertir.\n",
    "\tsalida (str): Ruta del archivo PDF de salida.\n",
    "\t\"\"\"\n",
    "\tif not imagenes:\n",
    "\t\tprint(\"Error: La lista de imágenes está vacía.\")\n",
    "\t\treturn\n",
    "\n",
    "\tdoc = fitz.open()\n",
    "\n",
    "\tfor imagen in imagenes:\n",
    "\t\tif os.path.exists(imagen):\n",
    "\t\t\timg_doc = fitz.open()  # Documento temporal\n",
    "\t\t\timg_doc.insert_page(0, width=scale_widht, height=scale_height)  # Página A4 en blanco\n",
    "\t\t\trect = img_doc[0].rect  # Rectángulo de la página\n",
    "\t\t\t\n",
    "\t\t\t# Obtener el tamaño de la imagen\n",
    "\t\t\timg = fitz.Pixmap(imagen)\n",
    "\t\t\timg_width, img_height = img.width, img.height\n",
    "\n",
    "\t\t\t# Escalar la imagen manteniendo la proporción\n",
    "\t\t\tscale = min(A4_WIDTH / img_width, A4_HEIGHT / img_height)\n",
    "\t\t\tnew_width = img_width * scale\n",
    "\t\t\tnew_height = img_height * scale\n",
    "\n",
    "\t\t\t# Centrar la imagen en la página\n",
    "\t\t\tx0 = (A4_WIDTH - new_width) / 2\n",
    "\t\t\ty0 = (A4_HEIGHT - new_height) / 2\n",
    "\t\t\tx1 = x0 + new_width\n",
    "\t\t\ty1 = y0 + new_height\n",
    "\t\t\timg_rect = fitz.Rect(x0, y0, x1, y1)\n",
    "\n",
    "\t\t\t# Insertar la imagen escalada en la página\n",
    "\t\t\timg_doc[0].insert_image(img_rect, filename=imagen)\n",
    "\t\t\t\n",
    "\t\t\t# Agregar la página con la imagen al documento final\n",
    "\t\t\tdoc.insert_pdf(img_doc)\n",
    "\t\t\timg_doc.close()\n",
    "\t\telse:\n",
    "\t\t\tprint(f\"Advertencia: No se encontró '{imagen}' y será omitida.\")\n",
    "\n",
    "\tif len(doc) > 0:\n",
    "\t\tdoc.save(salida)\n",
    "\t\tprint(f\"PDF guardado como '{salida}'\")\n",
    "\telse:\n",
    "\t\tprint(\"Error: No se pudo generar el PDF de salida.\")\n",
    "\n",
    "\tdoc.close()"
   ]
  },
  {
   "cell_type": "code",
   "execution_count": 31,
   "metadata": {},
   "outputs": [
    {
     "name": "stdout",
     "output_type": "stream",
     "text": [
      "PDF guardado como 'e:\\Agustin\\Escritorio\\myLovePDF\\resultado.pdf'\n"
     ]
    }
   ],
   "source": [
    "# Ejemplo de uso\n",
    "archivos = [\"rojo.jpg\", \"azul.png\"]\n",
    "resultado = \"resultado.pdf\"\n",
    "\n",
    "# Agrega el path del archivo actual\n",
    "archivos = addPath(archivos)\n",
    "resultado = addPath(resultado)\n",
    "\n",
    "imagenes_a_pdf(archivos, resultado)"
   ]
  },
  {
   "cell_type": "markdown",
   "metadata": {},
   "source": [
    "Renombrar Masivo"
   ]
  },
  {
   "cell_type": "code",
   "execution_count": 7,
   "metadata": {},
   "outputs": [],
   "source": [
    "def renombrar(archivos , nombre , numerar = True, inicial = 1 , post_idx = False):\n",
    "\t\"\"\"Renombra archivos con un nombre base, opcionalmente numerándolos.\n",
    "\n",
    "\tParámetros:\n",
    "\tarchivos (list): Lista de archivos a renombrar (rutas completas o nombres).\n",
    "\tnombre (str): Nuevo nombre base sin extensión.\n",
    "\tnumerar (bool): Si es True, agrega un número al nombre.\n",
    "\tinicial (int): Número inicial si numerar es True.\n",
    "\tpost_idx (bool): Si es True, el número se coloca después del nombre y antes de la extensión.\n",
    "\t\t\t\t\t Si es False, el número se coloca antes del nombre.\n",
    "\t\"\"\"\n",
    "\tfor i, archivo in enumerate(archivos, start=inicial):\n",
    "\t\tif not os.path.exists(archivo):\n",
    "\t\t\tprint(f\"Advertencia: No se encontró '{archivo}', se omitirá.\")\n",
    "\t\t\tcontinue\n",
    "\t\t\n",
    "\t\truta, ext = os.path.splitext(archivo)  # Obtener extensión del archivo\n",
    "\t\tdir_archivo = os.path.dirname(archivo)  # Directorio del archivo\n",
    "\t\t\n",
    "\t\tif numerar:\n",
    "\t\t\tif post_idx:\n",
    "\t\t\t\tnuevo_nombre = f\"{nombre} #{i}{ext}\"\n",
    "\t\t\telse:\n",
    "\t\t\t\tnuevo_nombre = f\"{i}.{nombre}{ext}\"\n",
    "\t\telse:\n",
    "\t\t\tnuevo_nombre = f\"{nombre}{ext}\"  # Si no se numera, solo usa el nombre base\n",
    "\n",
    "\t\tnueva_ruta = os.path.join(dir_archivo, nuevo_nombre)\n",
    "\n",
    "\t\ttry:\n",
    "\t\t\tos.rename(archivo, nueva_ruta)\n",
    "\t\t\tprint(f\"Renombrado: '{archivo}' → '{nueva_ruta}'\")\n",
    "\t\texcept Exception as e:\n",
    "\t\t\tprint(f\"Error al renombrar '{archivo}': {e}\")"
   ]
  },
  {
   "cell_type": "code",
   "execution_count": null,
   "metadata": {},
   "outputs": [],
   "source": [
    "# Ejemplo de uso\n",
    "archivos = [\"documento1.pdf\", \"documento2.pdf\", \"imagen.jpg\"]\n",
    "resultado = \"resultado.pdf\"\n",
    "\n",
    "# Agrega el path del archivo actual\n",
    "archivos = addPath(archivos)\n",
    "resultado = addPath(resultado)\n",
    "\n",
    "renombrar(archivos, \"archivo\", numerar=True, inicial=10, post_idx=True)"
   ]
  }
 ],
 "metadata": {
  "kernelspec": {
   "display_name": ".venv",
   "language": "python",
   "name": "python3"
  },
  "language_info": {
   "codemirror_mode": {
    "name": "ipython",
    "version": 3
   },
   "file_extension": ".py",
   "mimetype": "text/x-python",
   "name": "python",
   "nbconvert_exporter": "python",
   "pygments_lexer": "ipython3",
   "version": "3.12.4"
  }
 },
 "nbformat": 4,
 "nbformat_minor": 2
}
